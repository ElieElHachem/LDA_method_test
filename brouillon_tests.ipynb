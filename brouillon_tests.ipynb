{
 "metadata": {
  "language_info": {
   "codemirror_mode": {
    "name": "ipython",
    "version": 3
   },
   "file_extension": ".py",
   "mimetype": "text/x-python",
   "name": "python",
   "nbconvert_exporter": "python",
   "pygments_lexer": "ipython3",
   "version": "3.8.8"
  },
  "orig_nbformat": 2,
  "kernelspec": {
   "name": "python388jvsc74a57bd0f89455c2b95b8fc89e1b7e98eefc9c30d7330c5d344426cbea1eec31547ed37a",
   "display_name": "Python 3.8.8 64-bit ('Gensim': conda)"
  }
 },
 "nbformat": 4,
 "nbformat_minor": 2,
 "cells": [
  {
   "cell_type": "code",
   "execution_count": 32,
   "metadata": {},
   "outputs": [],
   "source": [
    "import time\n",
    "import seaborn as sns\n",
    "from scipy import stats\n",
    "from sklearn.decomposition import PCA\n",
    "from sklearn.manifold import TSNE\n",
    "from collections import Counter\n",
    "from scipy.spatial import cKDTree as KDTree\n",
    "import os\n",
    "import random\n",
    "import numpy as np\n",
    "import pandas as pd \n",
    "from sklearn.datasets import make_blobs\n",
    "import matplotlib.pyplot as plt\n",
    "from sklearn.cluster import KMeans\n",
    "from sklearn.cluster import SpectralClustering\n",
    "from sklearn.cluster import AgglomerativeClustering\n",
    "from scipy.cluster.hierarchy import dendrogram, fcluster\n",
    "from scipy.cluster.hierarchy import dendrogram, linkage\n",
    "from sklearn.cluster import OPTICS\n",
    "from glob import glob \n",
    "from tqdm import tqdm\n",
    "from scipy.spatial.distance import pdist , squareform\n",
    "np.random.seed(5)\n",
    "import itertools"
   ]
  },
  {
   "cell_type": "code",
   "execution_count": 53,
   "metadata": {},
   "outputs": [],
   "source": [
    "def generate_data(size_list, proba_tupple):\n",
    "    size_list = size_list\n",
    "    probas = proba_tupple\n",
    "    number_of_iteration = tuple([int(size_list*x) for x in probas])\n",
    "\n",
    "    list_of_iteration = []\n",
    "    for i in range(len(number_of_iteration)):\n",
    "        a = [i]*number_of_iteration[i]\n",
    "        list_of_iteration.append(a)\n",
    "    flat_list = [item for sublist in list_of_iteration for item in sublist]\n",
    "\n",
    "    return flat_list\n",
    "\n",
    "def compute_binary_matrix(mat):\n",
    "    nx, ny = mat.shape\n",
    "    res = 0 * mat[:, 0]\n",
    "    for ix in range(ny):\n",
    "        res += mat[: , ix] * 2 ** ix\n",
    "    return res  \n",
    "\n",
    "def reverse_binary_matrix(list_of_iteration, dataframe_to_match,column):\n",
    "    list_binary = []\n",
    "    for value in flat_list:\n",
    "        match = dataframe_to_match.loc[dataframe_to_match['%s'%column].isin([value]),[0,1]].values.tolist()\n",
    "        list_binary.append(match)\n",
    "    list_binary = [item for sublist in list_binary for item in sublist]\n",
    "\n",
    "    return list_binary\n"
   ]
  },
  {
   "cell_type": "code",
   "execution_count": 59,
   "metadata": {},
   "outputs": [],
   "source": [
    "size_list = 100\n",
    "proba_tupple = (0.85, 0.05,0.05,0.05)\n",
    "\n",
    "data_generated = generate_data(size_list,proba_tupple)\n",
    "\n",
    "equivalent = np.array(list(itertools.product([0, 1], repeat=2)))\n",
    "conversion = compute_binary_matrix(equivalent)\n",
    "\n",
    "\n",
    "binary_result = pd.DataFrame(equivalent)\n",
    "binary_result['Match_number'] = pd.Series(conversion)\n",
    "binary_result.sort_values(by =['Match_number'], inplace = True)\n",
    "\n",
    "frame_binary = pd.DataFrame(reverse_binary_matrix(data_generated, dataframe_to_match = binary_result, column = 'Match_number'))"
   ]
  },
  {
   "cell_type": "code",
   "execution_count": 60,
   "metadata": {},
   "outputs": [
    {
     "output_type": "execute_result",
     "data": {
      "text/plain": [
       "    0  1\n",
       "0   0  0\n",
       "1   0  0\n",
       "2   0  0\n",
       "3   0  0\n",
       "4   0  0\n",
       ".. .. ..\n",
       "95  1  1\n",
       "96  1  1\n",
       "97  1  1\n",
       "98  1  1\n",
       "99  1  1\n",
       "\n",
       "[100 rows x 2 columns]"
      ],
      "text/html": "<div>\n<style scoped>\n    .dataframe tbody tr th:only-of-type {\n        vertical-align: middle;\n    }\n\n    .dataframe tbody tr th {\n        vertical-align: top;\n    }\n\n    .dataframe thead th {\n        text-align: right;\n    }\n</style>\n<table border=\"1\" class=\"dataframe\">\n  <thead>\n    <tr style=\"text-align: right;\">\n      <th></th>\n      <th>0</th>\n      <th>1</th>\n    </tr>\n  </thead>\n  <tbody>\n    <tr>\n      <th>0</th>\n      <td>0</td>\n      <td>0</td>\n    </tr>\n    <tr>\n      <th>1</th>\n      <td>0</td>\n      <td>0</td>\n    </tr>\n    <tr>\n      <th>2</th>\n      <td>0</td>\n      <td>0</td>\n    </tr>\n    <tr>\n      <th>3</th>\n      <td>0</td>\n      <td>0</td>\n    </tr>\n    <tr>\n      <th>4</th>\n      <td>0</td>\n      <td>0</td>\n    </tr>\n    <tr>\n      <th>...</th>\n      <td>...</td>\n      <td>...</td>\n    </tr>\n    <tr>\n      <th>95</th>\n      <td>1</td>\n      <td>1</td>\n    </tr>\n    <tr>\n      <th>96</th>\n      <td>1</td>\n      <td>1</td>\n    </tr>\n    <tr>\n      <th>97</th>\n      <td>1</td>\n      <td>1</td>\n    </tr>\n    <tr>\n      <th>98</th>\n      <td>1</td>\n      <td>1</td>\n    </tr>\n    <tr>\n      <th>99</th>\n      <td>1</td>\n      <td>1</td>\n    </tr>\n  </tbody>\n</table>\n<p>100 rows × 2 columns</p>\n</div>"
     },
     "metadata": {},
     "execution_count": 60
    }
   ],
   "source": [
    "frame_binary"
   ]
  },
  {
   "cell_type": "code",
   "execution_count": 31,
   "metadata": {},
   "outputs": [
    {
     "output_type": "execute_result",
     "data": {
      "text/plain": [
       "    0  1\n",
       "0   0  0\n",
       "1   0  0\n",
       "2   0  0\n",
       "3   0  0\n",
       "4   0  0\n",
       ".. .. ..\n",
       "95  1  1\n",
       "96  1  1\n",
       "97  1  1\n",
       "98  1  1\n",
       "99  1  1\n",
       "\n",
       "[100 rows x 2 columns]"
      ],
      "text/html": "<div>\n<style scoped>\n    .dataframe tbody tr th:only-of-type {\n        vertical-align: middle;\n    }\n\n    .dataframe tbody tr th {\n        vertical-align: top;\n    }\n\n    .dataframe thead th {\n        text-align: right;\n    }\n</style>\n<table border=\"1\" class=\"dataframe\">\n  <thead>\n    <tr style=\"text-align: right;\">\n      <th></th>\n      <th>0</th>\n      <th>1</th>\n    </tr>\n  </thead>\n  <tbody>\n    <tr>\n      <th>0</th>\n      <td>0</td>\n      <td>0</td>\n    </tr>\n    <tr>\n      <th>1</th>\n      <td>0</td>\n      <td>0</td>\n    </tr>\n    <tr>\n      <th>2</th>\n      <td>0</td>\n      <td>0</td>\n    </tr>\n    <tr>\n      <th>3</th>\n      <td>0</td>\n      <td>0</td>\n    </tr>\n    <tr>\n      <th>4</th>\n      <td>0</td>\n      <td>0</td>\n    </tr>\n    <tr>\n      <th>...</th>\n      <td>...</td>\n      <td>...</td>\n    </tr>\n    <tr>\n      <th>95</th>\n      <td>1</td>\n      <td>1</td>\n    </tr>\n    <tr>\n      <th>96</th>\n      <td>1</td>\n      <td>1</td>\n    </tr>\n    <tr>\n      <th>97</th>\n      <td>1</td>\n      <td>1</td>\n    </tr>\n    <tr>\n      <th>98</th>\n      <td>1</td>\n      <td>1</td>\n    </tr>\n    <tr>\n      <th>99</th>\n      <td>1</td>\n      <td>1</td>\n    </tr>\n  </tbody>\n</table>\n<p>100 rows × 2 columns</p>\n</div>"
     },
     "metadata": {},
     "execution_count": 31
    }
   ],
   "source": [
    "pd.DataFrame(list_binary)"
   ]
  },
  {
   "cell_type": "code",
   "execution_count": 2,
   "metadata": {},
   "outputs": [],
   "source": [
    "\n",
    "#Generate patients\n",
    "number_of_patients = 50\n",
    "number_of_cell_phenotypes = 7\n",
    "number_of_feature_to_generate = 1\n",
    "#Patient_phenotype\n",
    "patient_phenotypes = 2\n",
    "total_number_of_cell = 10000\n",
    "\n",
    "n_sample = 5000 #Number of cell subset randomly chosen\n",
    "strating_point = 0\n",
    "number_of_cluster = 2 #Number_of_cluster_for_k_means\n",
    "max_val = 0.01\n",
    "#std for phenotype 1 and 2 updated at every run\n",
    "cluster_std_1 = 0.1\n",
    "cluster_std_2= 0.2\n",
    "\n",
    "        #Define parameters for LDA\n",
    "diviser_of_matrix = 100\n",
    "number_of_calculation = 50\n",
    "number_of_topic_to_test = 10\n",
    "        #Parameters for cutting dendrogram\n",
    "cutting_tree = 1"
   ]
  },
  {
   "cell_type": "code",
   "execution_count": 4,
   "metadata": {},
   "outputs": [
    {
     "output_type": "stream",
     "name": "stderr",
     "text": [
      " 32%|███▏      | 16/50 [00:09<00:20,  1.70it/s]\n"
     ]
    },
    {
     "output_type": "error",
     "ename": "KeyboardInterrupt",
     "evalue": "",
     "traceback": [
      "\u001b[1;31m---------------------------------------------------------------------------\u001b[0m",
      "\u001b[1;31mKeyboardInterrupt\u001b[0m                         Traceback (most recent call last)",
      "\u001b[1;32m<ipython-input-4-e22c16bab74b>\u001b[0m in \u001b[0;36m<module>\u001b[1;34m\u001b[0m\n\u001b[0;32m     35\u001b[0m \u001b[1;33m\u001b[0m\u001b[0m\n\u001b[0;32m     36\u001b[0m \u001b[1;33m\u001b[0m\u001b[0m\n\u001b[1;32m---> 37\u001b[1;33m     \u001b[0mphenotype_continuous_data_patient\u001b[0m \u001b[1;33m=\u001b[0m \u001b[0mpd\u001b[0m\u001b[1;33m.\u001b[0m\u001b[0mDataFrame\u001b[0m\u001b[1;33m(\u001b[0m\u001b[0mlist\u001b[0m\u001b[1;33m(\u001b[0m\u001b[0mmap\u001b[0m\u001b[1;33m(\u001b[0m\u001b[0mnp\u001b[0m\u001b[1;33m.\u001b[0m\u001b[0mravel\u001b[0m\u001b[1;33m,\u001b[0m\u001b[0mphenotype_continuous_data\u001b[0m\u001b[1;33m)\u001b[0m\u001b[1;33m)\u001b[0m\u001b[1;33m)\u001b[0m\u001b[1;33m.\u001b[0m\u001b[0mT\u001b[0m\u001b[1;33m\u001b[0m\u001b[1;33m\u001b[0m\u001b[0m\n\u001b[0m\u001b[0;32m     38\u001b[0m     \u001b[0mphenotype_binary_data_patient\u001b[0m \u001b[1;33m=\u001b[0m \u001b[0mpd\u001b[0m\u001b[1;33m.\u001b[0m\u001b[0mDataFrame\u001b[0m\u001b[1;33m(\u001b[0m\u001b[0mlist\u001b[0m\u001b[1;33m(\u001b[0m\u001b[0mmap\u001b[0m\u001b[1;33m(\u001b[0m\u001b[0mnp\u001b[0m\u001b[1;33m.\u001b[0m\u001b[0mravel\u001b[0m\u001b[1;33m,\u001b[0m\u001b[0mphenotype_binary_data\u001b[0m\u001b[1;33m)\u001b[0m\u001b[1;33m)\u001b[0m\u001b[1;33m)\u001b[0m\u001b[1;33m.\u001b[0m\u001b[0mT\u001b[0m\u001b[1;33m\u001b[0m\u001b[1;33m\u001b[0m\u001b[0m\n",
      "\u001b[1;32m~\\anaconda3\\envs\\Gensim\\lib\\site-packages\\pandas\\core\\frame.py\u001b[0m in \u001b[0;36m__init__\u001b[1;34m(self, data, index, columns, dtype, copy)\u001b[0m\n\u001b[0;32m    580\u001b[0m                             \u001b[0mindex\u001b[0m \u001b[1;33m=\u001b[0m \u001b[0mibase\u001b[0m\u001b[1;33m.\u001b[0m\u001b[0mdefault_index\u001b[0m\u001b[1;33m(\u001b[0m\u001b[0mlen\u001b[0m\u001b[1;33m(\u001b[0m\u001b[0mdata\u001b[0m\u001b[1;33m)\u001b[0m\u001b[1;33m)\u001b[0m\u001b[1;33m\u001b[0m\u001b[1;33m\u001b[0m\u001b[0m\n\u001b[0;32m    581\u001b[0m \u001b[1;33m\u001b[0m\u001b[0m\n\u001b[1;32m--> 582\u001b[1;33m                     \u001b[0mmgr\u001b[0m \u001b[1;33m=\u001b[0m \u001b[0marrays_to_mgr\u001b[0m\u001b[1;33m(\u001b[0m\u001b[0marrays\u001b[0m\u001b[1;33m,\u001b[0m \u001b[0mcolumns\u001b[0m\u001b[1;33m,\u001b[0m \u001b[0mindex\u001b[0m\u001b[1;33m,\u001b[0m \u001b[0mcolumns\u001b[0m\u001b[1;33m,\u001b[0m \u001b[0mdtype\u001b[0m\u001b[1;33m=\u001b[0m\u001b[0mdtype\u001b[0m\u001b[1;33m)\u001b[0m\u001b[1;33m\u001b[0m\u001b[1;33m\u001b[0m\u001b[0m\n\u001b[0m\u001b[0;32m    583\u001b[0m                 \u001b[1;32melse\u001b[0m\u001b[1;33m:\u001b[0m\u001b[1;33m\u001b[0m\u001b[1;33m\u001b[0m\u001b[0m\n\u001b[0;32m    584\u001b[0m                     \u001b[0mmgr\u001b[0m \u001b[1;33m=\u001b[0m \u001b[0minit_ndarray\u001b[0m\u001b[1;33m(\u001b[0m\u001b[0mdata\u001b[0m\u001b[1;33m,\u001b[0m \u001b[0mindex\u001b[0m\u001b[1;33m,\u001b[0m \u001b[0mcolumns\u001b[0m\u001b[1;33m,\u001b[0m \u001b[0mdtype\u001b[0m\u001b[1;33m=\u001b[0m\u001b[0mdtype\u001b[0m\u001b[1;33m,\u001b[0m \u001b[0mcopy\u001b[0m\u001b[1;33m=\u001b[0m\u001b[0mcopy\u001b[0m\u001b[1;33m)\u001b[0m\u001b[1;33m\u001b[0m\u001b[1;33m\u001b[0m\u001b[0m\n",
      "\u001b[1;32m~\\anaconda3\\envs\\Gensim\\lib\\site-packages\\pandas\\core\\internals\\construction.py\u001b[0m in \u001b[0;36marrays_to_mgr\u001b[1;34m(arrays, arr_names, index, columns, dtype, verify_integrity)\u001b[0m\n\u001b[0;32m     83\u001b[0m \u001b[1;33m\u001b[0m\u001b[0m\n\u001b[0;32m     84\u001b[0m         \u001b[1;31m# don't force copy because getting jammed in an ndarray anyway\u001b[0m\u001b[1;33m\u001b[0m\u001b[1;33m\u001b[0m\u001b[1;33m\u001b[0m\u001b[0m\n\u001b[1;32m---> 85\u001b[1;33m         \u001b[0marrays\u001b[0m \u001b[1;33m=\u001b[0m \u001b[0m_homogenize\u001b[0m\u001b[1;33m(\u001b[0m\u001b[0marrays\u001b[0m\u001b[1;33m,\u001b[0m \u001b[0mindex\u001b[0m\u001b[1;33m,\u001b[0m \u001b[0mdtype\u001b[0m\u001b[1;33m)\u001b[0m\u001b[1;33m\u001b[0m\u001b[1;33m\u001b[0m\u001b[0m\n\u001b[0m\u001b[0;32m     86\u001b[0m \u001b[1;33m\u001b[0m\u001b[0m\n\u001b[0;32m     87\u001b[0m         \u001b[0mcolumns\u001b[0m \u001b[1;33m=\u001b[0m \u001b[0mensure_index\u001b[0m\u001b[1;33m(\u001b[0m\u001b[0mcolumns\u001b[0m\u001b[1;33m)\u001b[0m\u001b[1;33m\u001b[0m\u001b[1;33m\u001b[0m\u001b[0m\n",
      "\u001b[1;32m~\\anaconda3\\envs\\Gensim\\lib\\site-packages\\pandas\\core\\internals\\construction.py\u001b[0m in \u001b[0;36m_homogenize\u001b[1;34m(data, index, dtype)\u001b[0m\n\u001b[0;32m    353\u001b[0m                     \u001b[0mval\u001b[0m \u001b[1;33m=\u001b[0m \u001b[0mdict\u001b[0m\u001b[1;33m(\u001b[0m\u001b[0mval\u001b[0m\u001b[1;33m)\u001b[0m\u001b[1;33m\u001b[0m\u001b[1;33m\u001b[0m\u001b[0m\n\u001b[0;32m    354\u001b[0m                 \u001b[0mval\u001b[0m \u001b[1;33m=\u001b[0m \u001b[0mlib\u001b[0m\u001b[1;33m.\u001b[0m\u001b[0mfast_multiget\u001b[0m\u001b[1;33m(\u001b[0m\u001b[0mval\u001b[0m\u001b[1;33m,\u001b[0m \u001b[0moindex\u001b[0m\u001b[1;33m.\u001b[0m\u001b[0m_values\u001b[0m\u001b[1;33m,\u001b[0m \u001b[0mdefault\u001b[0m\u001b[1;33m=\u001b[0m\u001b[0mnp\u001b[0m\u001b[1;33m.\u001b[0m\u001b[0mnan\u001b[0m\u001b[1;33m)\u001b[0m\u001b[1;33m\u001b[0m\u001b[1;33m\u001b[0m\u001b[0m\n\u001b[1;32m--> 355\u001b[1;33m             val = sanitize_array(\n\u001b[0m\u001b[0;32m    356\u001b[0m                 \u001b[0mval\u001b[0m\u001b[1;33m,\u001b[0m \u001b[0mindex\u001b[0m\u001b[1;33m,\u001b[0m \u001b[0mdtype\u001b[0m\u001b[1;33m=\u001b[0m\u001b[0mdtype\u001b[0m\u001b[1;33m,\u001b[0m \u001b[0mcopy\u001b[0m\u001b[1;33m=\u001b[0m\u001b[1;32mFalse\u001b[0m\u001b[1;33m,\u001b[0m \u001b[0mraise_cast_failure\u001b[0m\u001b[1;33m=\u001b[0m\u001b[1;32mFalse\u001b[0m\u001b[1;33m\u001b[0m\u001b[1;33m\u001b[0m\u001b[0m\n\u001b[0;32m    357\u001b[0m             )\n",
      "\u001b[1;32m~\\anaconda3\\envs\\Gensim\\lib\\site-packages\\pandas\\core\\construction.py\u001b[0m in \u001b[0;36msanitize_array\u001b[1;34m(data, index, dtype, copy, raise_cast_failure)\u001b[0m\n\u001b[0;32m    459\u001b[0m         \u001b[1;32melse\u001b[0m\u001b[1;33m:\u001b[0m\u001b[1;33m\u001b[0m\u001b[1;33m\u001b[0m\u001b[0m\n\u001b[0;32m    460\u001b[0m             \u001b[1;31m# we will try to copy be-definition here\u001b[0m\u001b[1;33m\u001b[0m\u001b[1;33m\u001b[0m\u001b[1;33m\u001b[0m\u001b[0m\n\u001b[1;32m--> 461\u001b[1;33m             \u001b[0msubarr\u001b[0m \u001b[1;33m=\u001b[0m \u001b[0m_try_cast\u001b[0m\u001b[1;33m(\u001b[0m\u001b[0mdata\u001b[0m\u001b[1;33m,\u001b[0m \u001b[0mdtype\u001b[0m\u001b[1;33m,\u001b[0m \u001b[0mcopy\u001b[0m\u001b[1;33m,\u001b[0m \u001b[0mraise_cast_failure\u001b[0m\u001b[1;33m)\u001b[0m\u001b[1;33m\u001b[0m\u001b[1;33m\u001b[0m\u001b[0m\n\u001b[0m\u001b[0;32m    462\u001b[0m \u001b[1;33m\u001b[0m\u001b[0m\n\u001b[0;32m    463\u001b[0m     \u001b[1;32melif\u001b[0m \u001b[0misinstance\u001b[0m\u001b[1;33m(\u001b[0m\u001b[0mdata\u001b[0m\u001b[1;33m,\u001b[0m \u001b[0mABCExtensionArray\u001b[0m\u001b[1;33m)\u001b[0m\u001b[1;33m:\u001b[0m\u001b[1;33m\u001b[0m\u001b[1;33m\u001b[0m\u001b[0m\n",
      "\u001b[1;32m~\\anaconda3\\envs\\Gensim\\lib\\site-packages\\pandas\\core\\construction.py\u001b[0m in \u001b[0;36m_try_cast\u001b[1;34m(arr, dtype, copy, raise_cast_failure)\u001b[0m\n\u001b[0;32m    552\u001b[0m \u001b[1;33m\u001b[0m\u001b[0m\n\u001b[0;32m    553\u001b[0m \u001b[1;33m\u001b[0m\u001b[0m\n\u001b[1;32m--> 554\u001b[1;33m \u001b[1;32mdef\u001b[0m \u001b[0m_try_cast\u001b[0m\u001b[1;33m(\u001b[0m\u001b[0marr\u001b[0m\u001b[1;33m,\u001b[0m \u001b[0mdtype\u001b[0m\u001b[1;33m:\u001b[0m \u001b[0mOptional\u001b[0m\u001b[1;33m[\u001b[0m\u001b[0mDtypeObj\u001b[0m\u001b[1;33m]\u001b[0m\u001b[1;33m,\u001b[0m \u001b[0mcopy\u001b[0m\u001b[1;33m:\u001b[0m \u001b[0mbool\u001b[0m\u001b[1;33m,\u001b[0m \u001b[0mraise_cast_failure\u001b[0m\u001b[1;33m:\u001b[0m \u001b[0mbool\u001b[0m\u001b[1;33m)\u001b[0m\u001b[1;33m:\u001b[0m\u001b[1;33m\u001b[0m\u001b[1;33m\u001b[0m\u001b[0m\n\u001b[0m\u001b[0;32m    555\u001b[0m     \"\"\"\n\u001b[0;32m    556\u001b[0m     \u001b[0mConvert\u001b[0m \u001b[0minput\u001b[0m \u001b[0mto\u001b[0m \u001b[0mnumpy\u001b[0m \u001b[0mndarray\u001b[0m \u001b[1;32mand\u001b[0m \u001b[0moptionally\u001b[0m \u001b[0mcast\u001b[0m \u001b[0mto\u001b[0m \u001b[0ma\u001b[0m \u001b[0mgiven\u001b[0m \u001b[0mdtype\u001b[0m\u001b[1;33m.\u001b[0m\u001b[1;33m\u001b[0m\u001b[1;33m\u001b[0m\u001b[0m\n",
      "\u001b[1;31mKeyboardInterrupt\u001b[0m: "
     ]
    }
   ],
   "source": [
    "\n",
    "left_part, right_part = 1000,9000\n",
    "cell_distrib = [left_part,right_part]\n",
    "cell_distrib_2 = [right_part,left_part]\n",
    "\n",
    "left_part_2, right_part_2 = 1000,9000\n",
    "cell_2_distrib = [left_part_2, right_part_2]\n",
    "cell_2_distrib_2 = [right_part_2, left_part_2]\n",
    "\n",
    "phenotype_code = []\n",
    "\n",
    "for patient in tqdm(range(number_of_patients)):\n",
    "    random_state = 41\n",
    "    phenotype_continuous_data = []\n",
    "    phenotype_binary_data = []\n",
    "    if patient < number_of_patients/patient_phenotypes:\n",
    "        phenotype_code.append(1)\n",
    "        X, y = make_blobs(n_samples=np.array(cell_distrib), centers=None, n_features= number_of_feature_to_generate, cluster_std=cluster_std_1, random_state=random_state)\n",
    "        phenotype_continuous_data.append(X)\n",
    "        phenotype_binary_data.append(y)\n",
    "        X, y = make_blobs(n_samples=np.array(cell_2_distrib), centers=None, n_features= number_of_feature_to_generate, cluster_std=cluster_std_1, random_state=random_state)\n",
    "        phenotype_continuous_data.append(X)\n",
    "        phenotype_binary_data.append(y)\n",
    "        random_state =+ 10\n",
    "        cluster_std_1 =+ random.uniform(0, 0.5)\n",
    "    else:\n",
    "        phenotype_code.append(2)\n",
    "        X, y = make_blobs(n_samples=np.array(cell_distrib_2), centers=None, n_features= number_of_feature_to_generate, cluster_std=cluster_std_2, random_state=random_state)\n",
    "        phenotype_continuous_data.append(X)\n",
    "        phenotype_binary_data.append(y)\n",
    "        X, y = make_blobs(n_samples=np.array(cell_2_distrib_2), centers=None, n_features= number_of_feature_to_generate, cluster_std=cluster_std_1, random_state=random_state)\n",
    "        phenotype_continuous_data.append(X)\n",
    "        phenotype_binary_data.append(y)\n",
    "        random_state =+ 10\n",
    "        cluster_std_1 =+ random.uniform(0, 0.5)\n",
    "\n",
    "\n",
    "    phenotype_continuous_data_patient = pd.DataFrame(list(map(np.ravel,phenotype_continuous_data))).T\n",
    "    phenotype_binary_data_patient = pd.DataFrame(list(map(np.ravel,phenotype_binary_data))).T"
   ]
  },
  {
   "cell_type": "code",
   "execution_count": 71,
   "metadata": {},
   "outputs": [],
   "source": [
    "first_part, second_part = 6000,4000\n",
    "first_cell_distrib = np.round([first_part,second_part])\n",
    "\n",
    "percentage_1 = 0.4\n",
    "second_part_column_wth_1, second_part_column_wth_0 = int(percentage_1 * first_part), int((1-percentage_1)*first_part)\n",
    "second_part_1_cell_distrib = [second_part_column_wth_1, second_part_column_wth_0]\n",
    "\n",
    "percentage_2 = 0.2\n",
    "third_part_column_with_1, third_part_column_wth_0 = int(percentage_2 * second_part), int((1-percentage_2) * second_part)\n",
    "second_part_2_cell_distrib = [third_part_column_with_1, third_part_column_wth_0]"
   ]
  },
  {
   "cell_type": "code",
   "execution_count": 77,
   "metadata": {},
   "outputs": [
    {
     "output_type": "stream",
     "name": "stdout",
     "text": [
      "[2400, 3600] [800, 3200]\n"
     ]
    }
   ],
   "source": [
    "print(second_part_1_cell_distrib,second_part_2_cell_distrib)"
   ]
  },
  {
   "cell_type": "code",
   "execution_count": 75,
   "metadata": {},
   "outputs": [],
   "source": [
    "phenotype_technique_x = []\n",
    "phenotype_technique_y = []\n",
    "\n",
    "#Append First row data\n",
    "X, y = make_blobs(n_samples=first_cell_distrib, centers=None, n_features= number_of_feature_to_generate, cluster_std=cluster_std_1, random_state=random_state)\n",
    "phenotype_technique_x.append(X)\n",
    "phenotype_technique_y.append(y)\n",
    "\n",
    "#second column generation\n",
    "X_1, y_1 = make_blobs(n_samples=second_part_1_cell_distrib, centers=None, n_features= number_of_feature_to_generate, cluster_std=cluster_std_1, random_state=random_state)\n",
    "phenotype_continuous_data.append(X)\n",
    "phenotype_binary_data.append(y)\n",
    "X_2,y_2 = make_blobs(n_samples=second_part_2_cell_distrib, centers=None, n_features= number_of_feature_to_generate, cluster_std=cluster_std_1, random_state=random_state)"
   ]
  },
  {
   "cell_type": "code",
   "execution_count": 17,
   "metadata": {},
   "outputs": [],
   "source": [
    "first_part, second_part = 100,300\n",
    "first_cell_distrib = np.round([first_part,second_part])\n",
    "\n",
    "percentage_1 = 0.4\n",
    "second_part_column_wth_1, second_part_column_wth_0 = int(percentage_1 * first_part), int((1-percentage_1)*first_part)\n",
    "second_part_1_cell_distrib = [second_part_column_wth_1, second_part_column_wth_0]\n",
    "\n",
    "percentage_2 = 0.2\n",
    "third_part_column_with_1, third_part_column_wth_0 = int(percentage_2 * second_part), int((1-percentage_2) * second_part)\n",
    "second_part_2_cell_distrib = [third_part_column_with_1, third_part_column_wth_0]"
   ]
  },
  {
   "cell_type": "code",
   "execution_count": 18,
   "metadata": {},
   "outputs": [],
   "source": [
    "first_colum = [1] * first_part + [0] *second_part\n",
    "second_column_test = [1] * second_part_1_cell_distrib[0]+ [0] * second_part_1_cell_distrib[1] + [1] * second_part_2_cell_distrib[0] + [0] *second_part_2_cell_distrib[1]"
   ]
  },
  {
   "cell_type": "code",
   "execution_count": 19,
   "metadata": {},
   "outputs": [],
   "source": [
    "test = pd.DataFrame( {'Col1': first_colum, 'Col2': second_column})"
   ]
  },
  {
   "cell_type": "code",
   "execution_count": 164,
   "metadata": {},
   "outputs": [
    {
     "output_type": "execute_result",
     "data": {
      "text/plain": [
       "1"
      ]
     },
     "metadata": {},
     "execution_count": 164
    }
   ],
   "source": [
    "buckets[1]"
   ]
  },
  {
   "cell_type": "code",
   "execution_count": 157,
   "metadata": {},
   "outputs": [
    {
     "output_type": "error",
     "ename": "TypeError",
     "evalue": "'tuple' object is not callable",
     "traceback": [
      "\u001b[1;31m---------------------------------------------------------------------------\u001b[0m",
      "\u001b[1;31mTypeError\u001b[0m                                 Traceback (most recent call last)",
      "\u001b[1;32m<ipython-input-157-f54f14164c51>\u001b[0m in \u001b[0;36m<module>\u001b[1;34m\u001b[0m\n\u001b[0;32m      1\u001b[0m \u001b[0mframe\u001b[0m \u001b[1;33m=\u001b[0m \u001b[1;33m{\u001b[0m \u001b[1;34m'Author'\u001b[0m\u001b[1;33m:\u001b[0m \u001b[0mpd\u001b[0m\u001b[1;33m.\u001b[0m\u001b[0mSeries\u001b[0m\u001b[1;33m(\u001b[0m\u001b[0mbuckets\u001b[0m\u001b[1;33m)\u001b[0m\u001b[1;33m,\u001b[0m \u001b[1;34m'Article'\u001b[0m\u001b[1;33m:\u001b[0m \u001b[0mpd\u001b[0m\u001b[1;33m.\u001b[0m\u001b[0mSeries\u001b[0m\u001b[1;33m(\u001b[0m\u001b[0msecond_column\u001b[0m\u001b[1;33m)\u001b[0m \u001b[1;33m}\u001b[0m\u001b[1;33m\u001b[0m\u001b[1;33m\u001b[0m\u001b[0m\n\u001b[1;32m----> 2\u001b[1;33m \u001b[0mresult\u001b[0m \u001b[1;33m=\u001b[0m \u001b[0mpd\u001b[0m\u001b[1;33m.\u001b[0m\u001b[0mDataFrame\u001b[0m\u001b[1;33m(\u001b[0m\u001b[0mframe\u001b[0m\u001b[1;33m)\u001b[0m\u001b[1;33m\u001b[0m\u001b[1;33m\u001b[0m\u001b[0m\n\u001b[0m",
      "\u001b[1;31mTypeError\u001b[0m: 'tuple' object is not callable"
     ]
    }
   ],
   "source": [
    "frame = { 'Author': pd.Series(buckets), 'Article': pd.Series(second_column) }\n",
    "result = pd.DataFrame(frame)\n"
   ]
  },
  {
   "cell_type": "code",
   "execution_count": 158,
   "metadata": {},
   "outputs": [
    {
     "output_type": "execute_result",
     "data": {
      "text/plain": [
       "tuple"
      ]
     },
     "metadata": {},
     "execution_count": 158
    }
   ],
   "source": [
    "tuple"
   ]
  },
  {
   "cell_type": "code",
   "execution_count": 4,
   "metadata": {},
   "outputs": [],
   "source": [
    "left_part, right_part = 100,300\n",
    "first_cell_distrib = np.round([left_part,right_part])\n",
    "\n",
    "percentage_1 = 0.4\n",
    "right_part_column_wth_1, right_part_column_wth_0 = int(percentage_1 * left_part), int((1-percentage_1)*left_part)\n",
    "right_part_1_cell_distrib = [right_part_column_wth_1, right_part_column_wth_0]\n",
    "\n",
    "percentage_2 = 0.2\n",
    "third_part_column_with_1, third_part_column_wth_0 = int(percentage_2 * right_part), int((1-percentage_2) * right_part)\n",
    "right_part_2_cell_distrib = [third_part_column_with_1, third_part_column_wth_0]"
   ]
  },
  {
   "cell_type": "code",
   "execution_count": 5,
   "metadata": {},
   "outputs": [
    {
     "output_type": "error",
     "ename": "NameError",
     "evalue": "name 'first_part' is not defined",
     "traceback": [
      "\u001b[1;31m---------------------------------------------------------------------------\u001b[0m",
      "\u001b[1;31mNameError\u001b[0m                                 Traceback (most recent call last)",
      "\u001b[1;32m<ipython-input-5-61977f71204f>\u001b[0m in \u001b[0;36m<module>\u001b[1;34m\u001b[0m\n\u001b[1;32m----> 1\u001b[1;33m \u001b[0mfirst_colum\u001b[0m \u001b[1;33m=\u001b[0m \u001b[1;33m[\u001b[0m\u001b[1;36m1\u001b[0m\u001b[1;33m]\u001b[0m \u001b[1;33m*\u001b[0m \u001b[0mfirst_part\u001b[0m \u001b[1;33m+\u001b[0m \u001b[1;33m[\u001b[0m\u001b[1;36m0\u001b[0m\u001b[1;33m]\u001b[0m \u001b[1;33m*\u001b[0m\u001b[0msecond_part\u001b[0m\u001b[1;33m\u001b[0m\u001b[1;33m\u001b[0m\u001b[0m\n\u001b[0m\u001b[0;32m      2\u001b[0m \u001b[0msecond_column_test\u001b[0m \u001b[1;33m=\u001b[0m \u001b[1;33m[\u001b[0m\u001b[1;36m1\u001b[0m\u001b[1;33m]\u001b[0m \u001b[1;33m*\u001b[0m \u001b[0msecond_part_1_cell_distrib\u001b[0m\u001b[1;33m[\u001b[0m\u001b[1;36m0\u001b[0m\u001b[1;33m]\u001b[0m\u001b[1;33m+\u001b[0m \u001b[1;33m[\u001b[0m\u001b[1;36m0\u001b[0m\u001b[1;33m]\u001b[0m \u001b[1;33m*\u001b[0m \u001b[0msecond_part_1_cell_distrib\u001b[0m\u001b[1;33m[\u001b[0m\u001b[1;36m1\u001b[0m\u001b[1;33m]\u001b[0m \u001b[1;33m+\u001b[0m \u001b[1;33m[\u001b[0m\u001b[1;36m1\u001b[0m\u001b[1;33m]\u001b[0m \u001b[1;33m*\u001b[0m \u001b[0msecond_part_2_cell_distrib\u001b[0m\u001b[1;33m[\u001b[0m\u001b[1;36m0\u001b[0m\u001b[1;33m]\u001b[0m \u001b[1;33m+\u001b[0m \u001b[1;33m[\u001b[0m\u001b[1;36m0\u001b[0m\u001b[1;33m]\u001b[0m \u001b[1;33m*\u001b[0m\u001b[0msecond_part_2_cell_distrib\u001b[0m\u001b[1;33m[\u001b[0m\u001b[1;36m1\u001b[0m\u001b[1;33m]\u001b[0m\u001b[1;33m\u001b[0m\u001b[1;33m\u001b[0m\u001b[0m\n",
      "\u001b[1;31mNameError\u001b[0m: name 'first_part' is not defined"
     ]
    }
   ],
   "source": [
    "first_colum = [1] * first_part + [0] *second_part\n",
    "second_column_test = [1] * second_part_1_cell_distrib[0]+ [0] * second_part_1_cell_distrib[1] + [1] * second_part_2_cell_distrib[0] + [0] *second_part_2_cell_distrib[1]"
   ]
  },
  {
   "cell_type": "code",
   "execution_count": 5,
   "metadata": {},
   "outputs": [],
   "source": [
    "\n",
    "left_part, right_part = 100,300\n",
    "first_cell_distrib = np.round([left_part,right_part])\n",
    "\n",
    "percentage_1 = 0.4\n",
    "right_part_column_wth_1, right_part_column_wth_0 = int(percentage_1 * left_part), int((1-percentage_1)*left_part)\n",
    "right_part_1_cell_distrib = [right_part_column_wth_1, right_part_column_wth_0]\n",
    "\n",
    "percentage_2 = 0.2\n",
    "third_part_column_with_1, third_part_column_wth_0 = int(percentage_2 * right_part), int((1-percentage_2) * right_part)\n",
    "right_part_2_cell_distrib = [third_part_column_with_1, third_part_column_wth_0]\n",
    "\n",
    "first_colum = [1] * left_part + [0] *right_part\n",
    "second_column_test = [1] * right_part_1_cell_distrib[0]+ [0] * right_part_1_cell_distrib[1] + [1] * right_part_2_cell_distrib[0] + [0] *right_part_2_cell_distrib[1]"
   ]
  },
  {
   "cell_type": "code",
   "execution_count": 7,
   "metadata": {},
   "outputs": [],
   "source": [
    "test = pd.DataFrame( {'Col1': first_colum, 'Col2': second_column_test})"
   ]
  },
  {
   "cell_type": "code",
   "execution_count": 8,
   "metadata": {},
   "outputs": [
    {
     "output_type": "execute_result",
     "data": {
      "text/plain": [
       "     Col1  Col2\n",
       "0       1     1\n",
       "1       1     1\n",
       "2       1     1\n",
       "3       1     1\n",
       "4       1     1\n",
       "..    ...   ...\n",
       "395     0     0\n",
       "396     0     0\n",
       "397     0     0\n",
       "398     0     0\n",
       "399     0     0\n",
       "\n",
       "[400 rows x 2 columns]"
      ],
      "text/html": "<div>\n<style scoped>\n    .dataframe tbody tr th:only-of-type {\n        vertical-align: middle;\n    }\n\n    .dataframe tbody tr th {\n        vertical-align: top;\n    }\n\n    .dataframe thead th {\n        text-align: right;\n    }\n</style>\n<table border=\"1\" class=\"dataframe\">\n  <thead>\n    <tr style=\"text-align: right;\">\n      <th></th>\n      <th>Col1</th>\n      <th>Col2</th>\n    </tr>\n  </thead>\n  <tbody>\n    <tr>\n      <th>0</th>\n      <td>1</td>\n      <td>1</td>\n    </tr>\n    <tr>\n      <th>1</th>\n      <td>1</td>\n      <td>1</td>\n    </tr>\n    <tr>\n      <th>2</th>\n      <td>1</td>\n      <td>1</td>\n    </tr>\n    <tr>\n      <th>3</th>\n      <td>1</td>\n      <td>1</td>\n    </tr>\n    <tr>\n      <th>4</th>\n      <td>1</td>\n      <td>1</td>\n    </tr>\n    <tr>\n      <th>...</th>\n      <td>...</td>\n      <td>...</td>\n    </tr>\n    <tr>\n      <th>395</th>\n      <td>0</td>\n      <td>0</td>\n    </tr>\n    <tr>\n      <th>396</th>\n      <td>0</td>\n      <td>0</td>\n    </tr>\n    <tr>\n      <th>397</th>\n      <td>0</td>\n      <td>0</td>\n    </tr>\n    <tr>\n      <th>398</th>\n      <td>0</td>\n      <td>0</td>\n    </tr>\n    <tr>\n      <th>399</th>\n      <td>0</td>\n      <td>0</td>\n    </tr>\n  </tbody>\n</table>\n<p>400 rows × 2 columns</p>\n</div>"
     },
     "metadata": {},
     "execution_count": 8
    }
   ],
   "source": [
    "test"
   ]
  },
  {
   "cell_type": "code",
   "execution_count": null,
   "metadata": {},
   "outputs": [],
   "source": []
  }
 ]
}