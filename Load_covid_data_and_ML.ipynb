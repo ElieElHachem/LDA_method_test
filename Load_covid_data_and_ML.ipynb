{
 "metadata": {
  "language_info": {
   "codemirror_mode": {
    "name": "ipython",
    "version": 3
   },
   "file_extension": ".py",
   "mimetype": "text/x-python",
   "name": "python",
   "nbconvert_exporter": "python",
   "pygments_lexer": "ipython3",
   "version": "3.8.8"
  },
  "orig_nbformat": 2,
  "kernelspec": {
   "name": "python388jvsc74a57bd0f89455c2b95b8fc89e1b7e98eefc9c30d7330c5d344426cbea1eec31547ed37a",
   "display_name": "Python 3.8.8 64-bit ('Gensim': conda)"
  }
 },
 "nbformat": 4,
 "nbformat_minor": 2,
 "cells": [
  {
   "cell_type": "code",
   "execution_count": 1,
   "metadata": {},
   "outputs": [],
   "source": [
    "import pandas as pd \n",
    "import numpy as np \n",
    "import fcsparser\n",
    "import torch\n",
    "from torch.utils.data import TensorDataset, DataLoader, Subset\n",
    "import random\n",
    "import numpy as np \n",
    "import pandas as pd \n",
    "from sklearn.model_selection import train_test_split\n",
    "import torch\n",
    "import torch.nn as nn\n",
    "import torch.nn.functional as F\n",
    "from scipy.stats import zscore\n",
    "from torch.autograd import Variable\n",
    "\n"
   ]
  },
  {
   "cell_type": "code",
   "execution_count": 2,
   "metadata": {},
   "outputs": [],
   "source": [
    "healthy_covid_patients = ['export_COVID19 samples 23_04_20_ST3_COVID19_HC_001 ST3 230420_017_Live_cells.fcs',  'export_COVID19 samples 23_04_20_ST3_COVID19_HC_005 ST3 230420_016_Live_cells.fcs' , 'export_COVID19 samples 23_04_20_ST3_COVID19_HC_006 ST3 230420_015_Live_cells.fcs' , 'export_COVID19 samples 23_04_20_ST3_COVID19_HC_007 ST3 230420_014_Live_cells.fcs' , 'export_COVID19 samples 23_04_20_ST3_COVID19_HC_008 ST3 230420_013_Live_cells.fcs' , 'export_COVID19 samples 23_04_20_ST3_COVID19_HC_009 ST3 230420_012_Live_cells.fcs']\n",
    "\n",
    "ward_covid_patient = ['export_COVID19 samples 21_04_20_ST3_COVID19_ICU_changedW_019_O ST3 210420_040_Live_cells.fcs' , 'export_COVID19 samples 21_04_20_ST3_COVID19_ICU_changedW_027_O ST3 210420_039_Live_cells.fcs' , 'export_COVID19 samples 21_04_20_ST3_COVID19_ICU_changedW_036_O ST3 210420_035_Live_cells.fcs'  ,'export_COVID19 samples 21_04_20_ST3_COVID19_W_033_O ST3 210420_036_Live_cells.fcs',  'export_COVID19 samples 21_04_20_ST3_COVID19_W_042_O ST3 210420_032_Live_cells.fcs'  ,'export_COVID19 samples 21_04_20_ST3_COVID19_W_043_O ST3 210420_031_Live_cells.fcs',  'export_COVID19 samples 23_04_20_ST3_COVID19_W_001_O ST3 230420_037_Live_cells.fcs' , 'export_COVID19 samples 23_04_20_ST3_COVID19_W_010_O ST3 230420_033_Live_cells.fcs' , 'export_COVID19 samples 23_04_20_ST3_COVID19_W_011_O ST3 230420_032_Live_cells.fcs' , 'export_COVID19 samples 23_04_20_ST3_COVID19_W_012_O ST3 230420_031_Live_cells.fcs' , 'export_COVID19 samples 23_04_20_ST3_COVID19_W_014_O ST3 230420_029_Live_cells.fcs' , 'export_COVID19 samples 23_04_20_ST3_COVID19_W_015_O ST3 230420_028_Live_cells.fcs' , 'export_COVID19 samples 23_04_20_ST3_COVID19_W_016_O ST3 230420_027_Live_cells.fcs'  , 'export_COVID19 samples 23_04_20_ST3_COVID19_W_017_O ST3 230420_026_Live_cells.fcs' , 'export_COVID19 samples 23_04_20_ST3_COVID19_W_018_O ST3 230420_025_Live_cells.fcs' , 'export_COVID19 samples 23_04_20_ST3_COVID19_W_020_O ST3 230420_007_Live_cells.fcs' , 'export_COVID19 samples 23_04_20_ST3_COVID19_W_022_O ST3 230420_006_Live_cells.fcs' , 'export_COVID19 samples 23_04_20_ST3_COVID19_W_024_O ST3 230420_005_Live_cells.fcs' , 'export_COVID19 samples 23_04_20_ST3_COVID19_W_025_O ST3 230420_004_Live_cells.fcs' , 'export_COVID19 samples 23_04_20_ST3_COVID19_W_026_O ST3 230420_003_Live_cells.fcs' , 'export_COVID19 samples 23_04_20_ST3_COVID19_W_029_O ST3 230420_002_Live_cells.fcs' , 'export_COVID19 samples 23_04_20_ST3_COVID19_W_046_O ST3 230420_011_Live_cells.fcs' , 'export_COVID19 samples 23_04_20_ST3_COVID19_W_048_O ST3 230420_010_Live_cells.fcs']\n",
    "\n",
    "ICU_covid_patient =['export_COVID19 samples 21_04_20_ST3_COVID19_ICU_005_A ST3 210420_080_Live_cells.fcs' , 'export_COVID19 samples 21_04_20_ST3_COVID19_ICU_013_A ST3 210420_078_Live_cells.fcs' , 'export_COVID19 samples 21_04_20_ST3_COVID19_ICU_014_A ST3 210420_073_Live_cells.fcs' , 'export_COVID19 samples 21_04_20_ST3_COVID19_ICU_015_A ST3 210420_069_Live_cells.fcs' , 'export_COVID19 samples 21_04_20_ST3_COVID19_ICU_023_A ST3 210420_064_Live_cells.fcs' , 'export_COVID19 samples 21_04_20_ST3_COVID19_ICU_027_A ST3 210420_061_Live_cells.fcs' , 'export_COVID19 samples 21_04_20_ST3_COVID19_ICU_029_A ST3 210420_059_Live_cells.fcs' , 'export_COVID19 samples 21_04_20_ST3_COVID19_ICU_031_A ST3 210420_055_Live_cells.fcs' , 'export_COVID19 samples 21_04_20_ST3_COVID19_ICU_036_A ST3 210420_053_Live_cells.fcs' , 'export_COVID19 samples 21_04_20_ST3_COVID19_ICU_039_A ST3 210420_051_Live_cells.fcs' , 'export_COVID19 samples 21_04_20_ST3_COVID19_ICU_043_A ST3 210420_049_Live_cells.fcs' , 'export_COVID19 samples 21_04_20_ST3_COVID19_ICU_045_A ST3 210420_045_Live_cells.fcs' , 'export_COVID19 samples 21_04_20_ST3_COVID19_ICU_changedW_002_O ST3 210420_043_Live_cells.fcs' , 'export_COVID19 samples 23_04_20_ST3_COVID19_ICU_002_A ST3 230420_052_Live_cells.fcs' , 'export_COVID19 samples 23_04_20_ST3_COVID19_ICU_003_A ST3 230420_049_Live_cells.fcs' , 'export_COVID19 samples 23_04_20_ST3_COVID19_ICU_006_A ST3 230420_046_Live_cells.fcs' , 'export_COVID19 samples 23_04_20_ST3_COVID19_ICU_012_A ST3 230420_043_Live_cells.fcs' , 'export_COVID19 samples 23_04_20_ST3_COVID19_ICU_025_A ST3 230420_039_Live_cells.fcs' , 'export_COVID19 samples 23_04_20_ST3_COVID19_ICU_changedW_004_O ST3 230420_036_Live_cells.fcs' , 'export_COVID19 samples 23_04_20_ST3_COVID19_ICU_changedW_049_O ST3 230420_009_Live_cells.fcs']"
   ]
  },
  {
   "cell_type": "code",
   "execution_count": 3,
   "metadata": {},
   "outputs": [
    {
     "output_type": "stream",
     "name": "stdout",
     "text": [
      "(315187, 28)\n",
      "(363314, 28)\n",
      "(311492, 28)\n",
      "(183001, 28)\n",
      "(298047, 28)\n",
      "(248917, 28)\n",
      "(16808, 28)\n",
      "(4683, 28)\n",
      "(137169, 28)\n",
      "(365508, 28)\n",
      "(235332, 28)\n",
      "(245734, 28)\n",
      "(27390, 28)\n",
      "(155175, 28)\n",
      "(13767, 28)\n",
      "(22520, 28)\n",
      "(98608, 28)\n",
      "(68610, 28)\n",
      "(17164, 28)\n",
      "(186246, 28)\n",
      "(337833, 28)\n",
      "(266928, 28)\n",
      "(193497, 28)\n",
      "(15778, 28)\n",
      "(83002, 28)\n",
      "(13728, 28)\n",
      "(123154, 28)\n",
      "(364473, 28)\n",
      "(18618, 28)\n",
      "(170075, 28)\n",
      "(15792, 28)\n",
      "(139037, 28)\n",
      "(329393, 28)\n",
      "(185298, 28)\n",
      "(36744, 28)\n",
      "(271522, 28)\n",
      "(78856, 28)\n",
      "(61226, 28)\n",
      "(163885, 28)\n",
      "(173816, 28)\n",
      "(10959, 28)\n",
      "(17412, 28)\n",
      "(29363, 28)\n",
      "(10127, 28)\n",
      "(20956, 28)\n",
      "(58691, 28)\n"
     ]
    }
   ],
   "source": [
    "PATH = 'C:/Users/admin/Desktop/FlowRepository_FR-FCM-Z2KP_files'\n",
    "\n",
    "threshold_number_cell = 3000\n",
    "healthy_patients = []\n",
    "for patient in healthy_covid_patients:\n",
    "    path = PATH + '/%s'%patient\n",
    "    meta, patient_file = fcsparser.parse(path, reformat_meta=True)\n",
    "    patient_file.drop(['FSC-A',\t'FSC-H',\t'FSC-W',\t'SSC-A',\t'SSC-H',\t'SSC-W', 'Time'], axis = 1, inplace = True)\n",
    "    if patient_file.shape[0] > threshold_number_cell:\n",
    "        healthy_patients.append(patient_file.apply(zscore).to_numpy())\n",
    "        print(patient_file.shape)\n",
    "\n",
    "ward_patients = []\n",
    "for patient in ward_covid_patient:\n",
    "    path = PATH + '/%s'%patient\n",
    "    meta, patient_file = fcsparser.parse(path, reformat_meta=True)\n",
    "    patient_file.drop(['FSC-A',\t'FSC-H',\t'FSC-W',\t'SSC-A',\t'SSC-H',\t'SSC-W', 'Time'], axis = 1, inplace = True)\n",
    "    if patient_file.shape[0] > threshold_number_cell:\n",
    "        ward_patients.append(patient_file.apply(zscore).to_numpy())\n",
    "        print(patient_file.shape)\n",
    "\n",
    "ICU_patients = []\n",
    "for patient in ICU_covid_patient:\n",
    "    path = PATH + '/%s'%patient\n",
    "    meta, patient_file = fcsparser.parse(path, reformat_meta=True)\n",
    "    patient_file.drop(['FSC-A',\t'FSC-H',\t'FSC-W',\t'SSC-A',\t'SSC-H',\t'SSC-W', 'Time'], axis = 1, inplace = True)\n",
    "    if patient_file.shape[0] > threshold_number_cell:\n",
    "        ICU_patients.append(patient_file.apply(zscore).to_numpy())\n",
    "        print(patient_file.shape)\n"
   ]
  },
  {
   "cell_type": "code",
   "execution_count": 4,
   "metadata": {},
   "outputs": [],
   "source": [
    "all_patient = healthy_patients +  ward_patients + ICU_patients"
   ]
  },
  {
   "cell_type": "code",
   "execution_count": 5,
   "metadata": {},
   "outputs": [],
   "source": [
    "status = []\n",
    "\n",
    "for i in range(len(healthy_patients)):\n",
    "    status.append(0)\n",
    "for i in range(len(ward_patients)):\n",
    "    status.append(1)\n",
    "for i in range(len(ICU_patients)):\n",
    "    status.append(2)\n",
    "  "
   ]
  },
  {
   "cell_type": "code",
   "execution_count": 6,
   "metadata": {},
   "outputs": [
    {
     "output_type": "stream",
     "name": "stdout",
     "text": [
      "[[0 0 0]\n [0 0 0]\n [0 0 0]\n [0 0 0]\n [0 0 0]\n [0 0 0]\n [0 1 0]\n [0 1 0]\n [0 1 0]\n [0 1 0]\n [0 1 0]\n [0 1 0]\n [0 1 0]\n [0 1 0]\n [0 1 0]\n [0 1 0]\n [0 1 0]\n [0 1 0]\n [0 1 0]\n [0 1 0]\n [0 1 0]\n [0 1 0]\n [0 1 0]\n [0 1 0]\n [0 1 0]\n [0 1 0]\n [0 1 0]\n [0 1 0]\n [0 0 1]\n [0 0 1]\n [0 0 1]\n [0 0 1]\n [0 0 1]\n [0 0 1]\n [0 0 1]\n [0 0 1]\n [0 0 1]\n [0 0 1]\n [0 0 1]\n [0 0 1]\n [0 0 1]\n [0 0 1]\n [0 0 1]\n [0 0 1]\n [0 0 1]\n [0 0 1]]\n"
     ]
    }
   ],
   "source": [
    "bin_nums = ((np.array(status).reshape(-1,1) & (np.arange(3))) != 0).astype(int)\n",
    "print(bin_nums)"
   ]
  },
  {
   "cell_type": "code",
   "execution_count": 7,
   "metadata": {},
   "outputs": [],
   "source": [
    "subset_all_patient = [torch.from_numpy(item[:3000]).float() for item in all_patient]\n",
    "subset_all_patient_torch = torch.stack(subset_all_patient).to(device ='cuda')\n",
    "\n",
    "\n"
   ]
  },
  {
   "source": [
    "all_patient_status = [torch.from_numpy(item).float() for item in bin_nums]\n",
    "all_patient_status_torch = torch.stack(all_patient_status).to(device ='cuda')#.unsqueeze(0)\n",
    "all_patient_status_torch.size()"
   ],
   "cell_type": "code",
   "metadata": {},
   "execution_count": 8,
   "outputs": [
    {
     "output_type": "execute_result",
     "data": {
      "text/plain": [
       "torch.Size([46, 3])"
      ]
     },
     "metadata": {},
     "execution_count": 8
    }
   ]
  },
  {
   "cell_type": "code",
   "execution_count": 9,
   "metadata": {},
   "outputs": [
    {
     "output_type": "stream",
     "name": "stdout",
     "text": [
      "torch.Size([46, 3000, 28]) torch.Size([46, 3])\n"
     ]
    }
   ],
   "source": [
    "print(subset_all_patient_torch.size(),all_patient_status_torch.size())"
   ]
  },
  {
   "cell_type": "code",
   "execution_count": 10,
   "metadata": {},
   "outputs": [],
   "source": [
    "dataset_covid_patients = TensorDataset(subset_all_patient_torch,all_patient_status_torch)"
   ]
  },
  {
   "cell_type": "code",
   "execution_count": 11,
   "metadata": {},
   "outputs": [],
   "source": [
    "n = len(dataset_covid_patients)  # how many total elements you have\n",
    "n_test = int( n * 0.4 )  # number of test/val elements\n",
    "n_train = n - 4 * n_test\n",
    "idx = list(range(n))  # indices to all elements\n",
    "random.shuffle(idx)  # in-place shuffle the indices to facilitate random splitting\n",
    "train_idx = idx[:n_train]\n",
    "val_idx = idx[n_train:(n_train + n_test)]\n",
    "test_idx = idx[(n_train + n_test):]\n",
    "\n",
    "train_set = Subset(dataset_covid_patients, train_idx)\n",
    "val_set = Subset(dataset_covid_patients, val_idx)\n",
    "test_set = Subset(dataset_covid_patients, test_idx)"
   ]
  },
  {
   "cell_type": "code",
   "execution_count": 12,
   "metadata": {},
   "outputs": [],
   "source": [
    "train_set_covid = DataLoader(dataset=train_set, shuffle=True)\n",
    "val_set_covid = DataLoader(dataset=val_set, shuffle=True)\n",
    "test_set_covid = DataLoader(dataset=test_set, shuffle=True)"
   ]
  },
  {
   "cell_type": "code",
   "execution_count": 35,
   "metadata": {},
   "outputs": [],
   "source": [
    "class Net(nn.Module):\n",
    "    def __init__(self):\n",
    "        super(Net, self).__init__()\n",
    "        self.conv1 = nn.Conv1d(in_channels = 3000, out_channels = 28, kernel_size = 5 , stride=1)\n",
    "        self.conv2 = nn.Conv1d(28, 1, 1)\n",
    "        self.fc1 = nn.Linear(24, 120)\n",
    "        self.fc2 = nn.Linear(120, 84)\n",
    "        self.fc3 = nn.Linear(84, 3)\n",
    "\n",
    "    def forward(self, x):\n",
    "        x = F.relu(self.conv1(x))\n",
    "        x = F.relu(self.conv2(x))\n",
    "        x = F.relu(self.fc1(x))\n",
    "        x = F.relu(self.fc2(x))\n",
    "        x = F.relu(self.fc3(x))\n",
    "        return x\n",
    "\n",
    "\n",
    "net = Net().cuda()"
   ]
  },
  {
   "cell_type": "code",
   "execution_count": 36,
   "metadata": {},
   "outputs": [
    {
     "output_type": "stream",
     "name": "stdout",
     "text": [
      "torch.Size([28, 3000, 5])\ntorch.Size([28])\ntorch.Size([1, 28, 1])\ntorch.Size([1])\ntorch.Size([120, 24])\ntorch.Size([120])\ntorch.Size([84, 120])\ntorch.Size([84])\ntorch.Size([3, 84])\ntorch.Size([3])\n"
     ]
    }
   ],
   "source": [
    "for param in net.parameters():\n",
    "    print(param.size())"
   ]
  },
  {
   "cell_type": "code",
   "execution_count": 39,
   "metadata": {},
   "outputs": [
    {
     "output_type": "stream",
     "name": "stdout",
     "text": [
      "Net(\n  (conv1): Conv1d(3000, 28, kernel_size=(5,), stride=(1,))\n  (conv2): Conv1d(28, 1, kernel_size=(1,), stride=(1,))\n  (fc1): Linear(in_features=24, out_features=120, bias=True)\n  (fc2): Linear(in_features=120, out_features=84, bias=True)\n  (fc3): Linear(in_features=84, out_features=3, bias=True)\n)\n"
     ]
    }
   ],
   "source": [
    "print(net)"
   ]
  },
  {
   "cell_type": "code",
   "execution_count": 40,
   "metadata": {},
   "outputs": [],
   "source": [
    "import torch.optim as optim\n",
    "\n",
    "criterion = nn.CrossEntropyLoss()\n",
    "optimizer = optim.SGD(net.parameters(), lr=0.001, momentum=0.9)"
   ]
  },
  {
   "cell_type": "code",
   "execution_count": 41,
   "metadata": {},
   "outputs": [
    {
     "output_type": "error",
     "ename": "RuntimeError",
     "evalue": "multi-target not supported at C:/cb/pytorch_1000000000000/work/aten/src\\THCUNN/generic/ClassNLLCriterion.cu:15",
     "traceback": [
      "\u001b[1;31m---------------------------------------------------------------------------\u001b[0m",
      "\u001b[1;31mRuntimeError\u001b[0m                              Traceback (most recent call last)",
      "\u001b[1;32m<ipython-input-41-8b01af2dcccf>\u001b[0m in \u001b[0;36m<module>\u001b[1;34m\u001b[0m\n\u001b[0;32m     13\u001b[0m         \u001b[1;31m# forward + backward + optimize\u001b[0m\u001b[1;33m\u001b[0m\u001b[1;33m\u001b[0m\u001b[1;33m\u001b[0m\u001b[0m\n\u001b[0;32m     14\u001b[0m         \u001b[0moutputs\u001b[0m \u001b[1;33m=\u001b[0m \u001b[0mnet\u001b[0m\u001b[1;33m(\u001b[0m\u001b[0minputs\u001b[0m\u001b[1;33m)\u001b[0m\u001b[1;33m\u001b[0m\u001b[1;33m\u001b[0m\u001b[0m\n\u001b[1;32m---> 15\u001b[1;33m         \u001b[0mloss\u001b[0m \u001b[1;33m=\u001b[0m \u001b[0mcriterion\u001b[0m\u001b[1;33m(\u001b[0m\u001b[0moutputs\u001b[0m\u001b[1;33m.\u001b[0m\u001b[0msqueeze\u001b[0m\u001b[1;33m(\u001b[0m\u001b[1;36m0\u001b[0m\u001b[1;33m)\u001b[0m\u001b[1;33m,\u001b[0m \u001b[0mlabels\u001b[0m\u001b[1;33m.\u001b[0m\u001b[0mlong\u001b[0m\u001b[1;33m(\u001b[0m\u001b[1;33m)\u001b[0m\u001b[1;33m)\u001b[0m\u001b[1;33m\u001b[0m\u001b[1;33m\u001b[0m\u001b[0m\n\u001b[0m\u001b[0;32m     16\u001b[0m         \u001b[0mloss\u001b[0m\u001b[1;33m.\u001b[0m\u001b[0mbackward\u001b[0m\u001b[1;33m(\u001b[0m\u001b[1;33m)\u001b[0m\u001b[1;33m\u001b[0m\u001b[1;33m\u001b[0m\u001b[0m\n\u001b[0;32m     17\u001b[0m         \u001b[0moptimizer\u001b[0m\u001b[1;33m.\u001b[0m\u001b[0mstep\u001b[0m\u001b[1;33m(\u001b[0m\u001b[1;33m)\u001b[0m\u001b[1;33m\u001b[0m\u001b[1;33m\u001b[0m\u001b[0m\n",
      "\u001b[1;32m~\\anaconda3\\envs\\gensim\\lib\\site-packages\\torch\\nn\\modules\\module.py\u001b[0m in \u001b[0;36m_call_impl\u001b[1;34m(self, *input, **kwargs)\u001b[0m\n\u001b[0;32m    887\u001b[0m             \u001b[0mresult\u001b[0m \u001b[1;33m=\u001b[0m \u001b[0mself\u001b[0m\u001b[1;33m.\u001b[0m\u001b[0m_slow_forward\u001b[0m\u001b[1;33m(\u001b[0m\u001b[1;33m*\u001b[0m\u001b[0minput\u001b[0m\u001b[1;33m,\u001b[0m \u001b[1;33m**\u001b[0m\u001b[0mkwargs\u001b[0m\u001b[1;33m)\u001b[0m\u001b[1;33m\u001b[0m\u001b[1;33m\u001b[0m\u001b[0m\n\u001b[0;32m    888\u001b[0m         \u001b[1;32melse\u001b[0m\u001b[1;33m:\u001b[0m\u001b[1;33m\u001b[0m\u001b[1;33m\u001b[0m\u001b[0m\n\u001b[1;32m--> 889\u001b[1;33m             \u001b[0mresult\u001b[0m \u001b[1;33m=\u001b[0m \u001b[0mself\u001b[0m\u001b[1;33m.\u001b[0m\u001b[0mforward\u001b[0m\u001b[1;33m(\u001b[0m\u001b[1;33m*\u001b[0m\u001b[0minput\u001b[0m\u001b[1;33m,\u001b[0m \u001b[1;33m**\u001b[0m\u001b[0mkwargs\u001b[0m\u001b[1;33m)\u001b[0m\u001b[1;33m\u001b[0m\u001b[1;33m\u001b[0m\u001b[0m\n\u001b[0m\u001b[0;32m    890\u001b[0m         for hook in itertools.chain(\n\u001b[0;32m    891\u001b[0m                 \u001b[0m_global_forward_hooks\u001b[0m\u001b[1;33m.\u001b[0m\u001b[0mvalues\u001b[0m\u001b[1;33m(\u001b[0m\u001b[1;33m)\u001b[0m\u001b[1;33m,\u001b[0m\u001b[1;33m\u001b[0m\u001b[1;33m\u001b[0m\u001b[0m\n",
      "\u001b[1;32m~\\anaconda3\\envs\\gensim\\lib\\site-packages\\torch\\nn\\modules\\loss.py\u001b[0m in \u001b[0;36mforward\u001b[1;34m(self, input, target)\u001b[0m\n\u001b[0;32m   1045\u001b[0m     \u001b[1;32mdef\u001b[0m \u001b[0mforward\u001b[0m\u001b[1;33m(\u001b[0m\u001b[0mself\u001b[0m\u001b[1;33m,\u001b[0m \u001b[0minput\u001b[0m\u001b[1;33m:\u001b[0m \u001b[0mTensor\u001b[0m\u001b[1;33m,\u001b[0m \u001b[0mtarget\u001b[0m\u001b[1;33m:\u001b[0m \u001b[0mTensor\u001b[0m\u001b[1;33m)\u001b[0m \u001b[1;33m->\u001b[0m \u001b[0mTensor\u001b[0m\u001b[1;33m:\u001b[0m\u001b[1;33m\u001b[0m\u001b[1;33m\u001b[0m\u001b[0m\n\u001b[0;32m   1046\u001b[0m         \u001b[1;32massert\u001b[0m \u001b[0mself\u001b[0m\u001b[1;33m.\u001b[0m\u001b[0mweight\u001b[0m \u001b[1;32mis\u001b[0m \u001b[1;32mNone\u001b[0m \u001b[1;32mor\u001b[0m \u001b[0misinstance\u001b[0m\u001b[1;33m(\u001b[0m\u001b[0mself\u001b[0m\u001b[1;33m.\u001b[0m\u001b[0mweight\u001b[0m\u001b[1;33m,\u001b[0m \u001b[0mTensor\u001b[0m\u001b[1;33m)\u001b[0m\u001b[1;33m\u001b[0m\u001b[1;33m\u001b[0m\u001b[0m\n\u001b[1;32m-> 1047\u001b[1;33m         return F.cross_entropy(input, target, weight=self.weight,\n\u001b[0m\u001b[0;32m   1048\u001b[0m                                ignore_index=self.ignore_index, reduction=self.reduction)\n\u001b[0;32m   1049\u001b[0m \u001b[1;33m\u001b[0m\u001b[0m\n",
      "\u001b[1;32m~\\anaconda3\\envs\\gensim\\lib\\site-packages\\torch\\nn\\functional.py\u001b[0m in \u001b[0;36mcross_entropy\u001b[1;34m(input, target, weight, size_average, ignore_index, reduce, reduction)\u001b[0m\n\u001b[0;32m   2691\u001b[0m     \u001b[1;32mif\u001b[0m \u001b[0msize_average\u001b[0m \u001b[1;32mis\u001b[0m \u001b[1;32mnot\u001b[0m \u001b[1;32mNone\u001b[0m \u001b[1;32mor\u001b[0m \u001b[0mreduce\u001b[0m \u001b[1;32mis\u001b[0m \u001b[1;32mnot\u001b[0m \u001b[1;32mNone\u001b[0m\u001b[1;33m:\u001b[0m\u001b[1;33m\u001b[0m\u001b[1;33m\u001b[0m\u001b[0m\n\u001b[0;32m   2692\u001b[0m         \u001b[0mreduction\u001b[0m \u001b[1;33m=\u001b[0m \u001b[0m_Reduction\u001b[0m\u001b[1;33m.\u001b[0m\u001b[0mlegacy_get_string\u001b[0m\u001b[1;33m(\u001b[0m\u001b[0msize_average\u001b[0m\u001b[1;33m,\u001b[0m \u001b[0mreduce\u001b[0m\u001b[1;33m)\u001b[0m\u001b[1;33m\u001b[0m\u001b[1;33m\u001b[0m\u001b[0m\n\u001b[1;32m-> 2693\u001b[1;33m     \u001b[1;32mreturn\u001b[0m \u001b[0mnll_loss\u001b[0m\u001b[1;33m(\u001b[0m\u001b[0mlog_softmax\u001b[0m\u001b[1;33m(\u001b[0m\u001b[0minput\u001b[0m\u001b[1;33m,\u001b[0m \u001b[1;36m1\u001b[0m\u001b[1;33m)\u001b[0m\u001b[1;33m,\u001b[0m \u001b[0mtarget\u001b[0m\u001b[1;33m,\u001b[0m \u001b[0mweight\u001b[0m\u001b[1;33m,\u001b[0m \u001b[1;32mNone\u001b[0m\u001b[1;33m,\u001b[0m \u001b[0mignore_index\u001b[0m\u001b[1;33m,\u001b[0m \u001b[1;32mNone\u001b[0m\u001b[1;33m,\u001b[0m \u001b[0mreduction\u001b[0m\u001b[1;33m)\u001b[0m\u001b[1;33m\u001b[0m\u001b[1;33m\u001b[0m\u001b[0m\n\u001b[0m\u001b[0;32m   2694\u001b[0m \u001b[1;33m\u001b[0m\u001b[0m\n\u001b[0;32m   2695\u001b[0m \u001b[1;33m\u001b[0m\u001b[0m\n",
      "\u001b[1;32m~\\anaconda3\\envs\\gensim\\lib\\site-packages\\torch\\nn\\functional.py\u001b[0m in \u001b[0;36mnll_loss\u001b[1;34m(input, target, weight, size_average, ignore_index, reduce, reduction)\u001b[0m\n\u001b[0;32m   2386\u001b[0m         )\n\u001b[0;32m   2387\u001b[0m     \u001b[1;32mif\u001b[0m \u001b[0mdim\u001b[0m \u001b[1;33m==\u001b[0m \u001b[1;36m2\u001b[0m\u001b[1;33m:\u001b[0m\u001b[1;33m\u001b[0m\u001b[1;33m\u001b[0m\u001b[0m\n\u001b[1;32m-> 2388\u001b[1;33m         \u001b[0mret\u001b[0m \u001b[1;33m=\u001b[0m \u001b[0mtorch\u001b[0m\u001b[1;33m.\u001b[0m\u001b[0m_C\u001b[0m\u001b[1;33m.\u001b[0m\u001b[0m_nn\u001b[0m\u001b[1;33m.\u001b[0m\u001b[0mnll_loss\u001b[0m\u001b[1;33m(\u001b[0m\u001b[0minput\u001b[0m\u001b[1;33m,\u001b[0m \u001b[0mtarget\u001b[0m\u001b[1;33m,\u001b[0m \u001b[0mweight\u001b[0m\u001b[1;33m,\u001b[0m \u001b[0m_Reduction\u001b[0m\u001b[1;33m.\u001b[0m\u001b[0mget_enum\u001b[0m\u001b[1;33m(\u001b[0m\u001b[0mreduction\u001b[0m\u001b[1;33m)\u001b[0m\u001b[1;33m,\u001b[0m \u001b[0mignore_index\u001b[0m\u001b[1;33m)\u001b[0m\u001b[1;33m\u001b[0m\u001b[1;33m\u001b[0m\u001b[0m\n\u001b[0m\u001b[0;32m   2389\u001b[0m     \u001b[1;32melif\u001b[0m \u001b[0mdim\u001b[0m \u001b[1;33m==\u001b[0m \u001b[1;36m4\u001b[0m\u001b[1;33m:\u001b[0m\u001b[1;33m\u001b[0m\u001b[1;33m\u001b[0m\u001b[0m\n\u001b[0;32m   2390\u001b[0m         \u001b[0mret\u001b[0m \u001b[1;33m=\u001b[0m \u001b[0mtorch\u001b[0m\u001b[1;33m.\u001b[0m\u001b[0m_C\u001b[0m\u001b[1;33m.\u001b[0m\u001b[0m_nn\u001b[0m\u001b[1;33m.\u001b[0m\u001b[0mnll_loss2d\u001b[0m\u001b[1;33m(\u001b[0m\u001b[0minput\u001b[0m\u001b[1;33m,\u001b[0m \u001b[0mtarget\u001b[0m\u001b[1;33m,\u001b[0m \u001b[0mweight\u001b[0m\u001b[1;33m,\u001b[0m \u001b[0m_Reduction\u001b[0m\u001b[1;33m.\u001b[0m\u001b[0mget_enum\u001b[0m\u001b[1;33m(\u001b[0m\u001b[0mreduction\u001b[0m\u001b[1;33m)\u001b[0m\u001b[1;33m,\u001b[0m \u001b[0mignore_index\u001b[0m\u001b[1;33m)\u001b[0m\u001b[1;33m\u001b[0m\u001b[1;33m\u001b[0m\u001b[0m\n",
      "\u001b[1;31mRuntimeError\u001b[0m: multi-target not supported at C:/cb/pytorch_1000000000000/work/aten/src\\THCUNN/generic/ClassNLLCriterion.cu:15"
     ]
    }
   ],
   "source": [
    "for epoch in range(10):  # loop over the dataset multiple times\n",
    "\n",
    "    running_loss = 0.0\n",
    "    for i, data in enumerate(train_set_covid, 0):\n",
    "        device = torch.device(\"cuda:0\" if torch.cuda.is_available() else \"cpu\")\n",
    "\n",
    "        inputs, labels = data\n",
    "        inputs, labels = inputs.to(device), labels.to(device)\n",
    "\n",
    "        # zero the parameter gradients\n",
    "        optimizer.zero_grad()\n",
    "\n",
    "        # forward + backward + optimize\n",
    "        outputs = net(inputs)\n",
    "        loss = criterion(outputs.squeeze(0), labels.long())\n",
    "        loss.backward()\n",
    "        optimizer.step()\n",
    "\n",
    "        # print statistics\n",
    "        running_loss += loss.item()\n",
    "        if i % 2000 == 1999:    # print every 2000 mini-batches\n",
    "            print('[%d, %5d] loss: %.3f' %\n",
    "                  (epoch + 1, i + 1, running_loss / 2000))\n",
    "            running_loss = 0.0\n",
    "\n",
    "print('Finished Training') "
   ]
  },
  {
   "cell_type": "code",
   "execution_count": 42,
   "metadata": {},
   "outputs": [
    {
     "output_type": "execute_result",
     "data": {
      "text/plain": [
       "torch.Size([1, 3])"
      ]
     },
     "metadata": {},
     "execution_count": 42
    }
   ],
   "source": [
    "outputs.squeeze(0).size()"
   ]
  },
  {
   "cell_type": "code",
   "execution_count": 45,
   "metadata": {},
   "outputs": [
    {
     "output_type": "execute_result",
     "data": {
      "text/plain": [
       "tensor([[0.0256, 0.0000, 0.0000]], device='cuda:0', grad_fn=<SqueezeBackward1>)"
      ]
     },
     "metadata": {},
     "execution_count": 45
    }
   ],
   "source": [
    "outputs.squeeze()"
   ]
  },
  {
   "cell_type": "code",
   "execution_count": 43,
   "metadata": {},
   "outputs": [
    {
     "output_type": "execute_result",
     "data": {
      "text/plain": [
       "torch.Size([1, 3])"
      ]
     },
     "metadata": {},
     "execution_count": 43
    }
   ],
   "source": [
    "labels.long().size()"
   ]
  },
  {
   "cell_type": "code",
   "execution_count": 21,
   "metadata": {},
   "outputs": [
    {
     "output_type": "execute_result",
     "data": {
      "text/plain": [
       "tensor([[-0.0653,  0.1301, -0.0273]], device='cuda:0',\n",
       "       grad_fn=<SqueezeBackward1>)"
      ]
     },
     "metadata": {},
     "execution_count": 21
    }
   ],
   "source": [
    "outputs.squeeze(0)"
   ]
  },
  {
   "cell_type": "code",
   "execution_count": 29,
   "metadata": {},
   "outputs": [
    {
     "output_type": "execute_result",
     "data": {
      "text/plain": [
       "torch.Size([3])"
      ]
     },
     "metadata": {},
     "execution_count": 29
    }
   ],
   "source": [
    "labels.squeeze(0).long().size()"
   ]
  },
  {
   "cell_type": "code",
   "execution_count": 39,
   "metadata": {},
   "outputs": [
    {
     "output_type": "execute_result",
     "data": {
      "text/plain": [
       "torch.Size([3])"
      ]
     },
     "metadata": {},
     "execution_count": 39
    }
   ],
   "source": [
    "outputs.squeeze().size()"
   ]
  },
  {
   "cell_type": "code",
   "execution_count": 45,
   "metadata": {},
   "outputs": [
    {
     "output_type": "execute_result",
     "data": {
      "text/plain": [
       "tensor([-0., 0., -0.], device='cuda:0', grad_fn=<RoundBackward>)"
      ]
     },
     "metadata": {},
     "execution_count": 45
    }
   ],
   "source": [
    "outputs.squeeze().round()"
   ]
  },
  {
   "cell_type": "code",
   "execution_count": 46,
   "metadata": {},
   "outputs": [],
   "source": [
    "input = torch.randn(3, 5, requires_grad=True)\n",
    "target = torch.empty(3, dtype=torch.long).random_(5)"
   ]
  },
  {
   "cell_type": "code",
   "execution_count": 33,
   "metadata": {},
   "outputs": [
    {
     "output_type": "stream",
     "name": "stdout",
     "text": [
      "torch.Size([1, 1, 2])\n"
     ]
    }
   ],
   "source": [
    "class Simple1DCNN(torch.nn.Module):\n",
    "    def __init__(self):\n",
    "        super(Simple1DCNN, self).__init__()\n",
    "        self.layer1 = torch.nn.Conv1d(in_channels=3000, out_channels=28, kernel_size=5, stride=1)\n",
    "        self.layer2 = torch.nn.Conv1d(in_channels=28, out_channels=1, kernel_size=1)\n",
    "        self.fc1 = nn.Linear(24, 120)\n",
    "        self.fc2 = nn.Linear(120, 84)\n",
    "        self.fc3 = nn.Linear(84, 2)\n",
    "\n",
    "    def forward(self, x):\n",
    "        x = F.relu(self.layer1(x))\n",
    "        x = F.relu(self.layer2(x))\n",
    "        x = F.relu(self.fc1(x))\n",
    "        x = F.relu(self.fc2(x))\n",
    "        x = F.relu(self.fc3(x))\n",
    "\n",
    "\n",
    "        return x\n",
    "\n",
    "\n",
    "model = Simple1DCNN().cuda()\n",
    "print(model(inputs).shape)"
   ]
  },
  {
   "cell_type": "code",
   "execution_count": 34,
   "metadata": {},
   "outputs": [
    {
     "output_type": "execute_result",
     "data": {
      "text/plain": [
       "tensor([[[0.0000, 0.1326]]], device='cuda:0', grad_fn=<ReluBackward0>)"
      ]
     },
     "metadata": {},
     "execution_count": 34
    }
   ],
   "source": [
    "model(inputs)"
   ]
  },
  {
   "cell_type": "code",
   "execution_count": 47,
   "metadata": {},
   "outputs": [
    {
     "output_type": "execute_result",
     "data": {
      "text/plain": [
       "torch.Size([3, 5])"
      ]
     },
     "metadata": {},
     "execution_count": 47
    }
   ],
   "source": [
    "input.size()"
   ]
  },
  {
   "cell_type": "code",
   "execution_count": 49,
   "metadata": {},
   "outputs": [
    {
     "output_type": "execute_result",
     "data": {
      "text/plain": [
       "torch.Size([3])"
      ]
     },
     "metadata": {},
     "execution_count": 49
    }
   ],
   "source": [
    "target.size()"
   ]
  },
  {
   "cell_type": "code",
   "execution_count": 50,
   "metadata": {},
   "outputs": [],
   "source": [
    "output = criterion(input, target)"
   ]
  },
  {
   "cell_type": "code",
   "execution_count": 51,
   "metadata": {},
   "outputs": [
    {
     "output_type": "execute_result",
     "data": {
      "text/plain": [
       "tensor(1.2279, grad_fn=<NllLossBackward>)"
      ]
     },
     "metadata": {},
     "execution_count": 51
    }
   ],
   "source": [
    "output"
   ]
  },
  {
   "cell_type": "code",
   "execution_count": 76,
   "metadata": {},
   "outputs": [
    {
     "output_type": "execute_result",
     "data": {
      "text/plain": [
       "torch.Size([2])"
      ]
     },
     "metadata": {},
     "execution_count": 76
    }
   ],
   "source": [
    "outputs.squeeze().size()"
   ]
  },
  {
   "cell_type": "code",
   "execution_count": 42,
   "metadata": {},
   "outputs": [
    {
     "output_type": "execute_result",
     "data": {
      "text/plain": [
       "torch.Size([1, 1, 3])"
      ]
     },
     "metadata": {},
     "execution_count": 42
    }
   ],
   "source": [
    "outputs.size()"
   ]
  },
  {
   "cell_type": "code",
   "execution_count": 41,
   "metadata": {},
   "outputs": [
    {
     "output_type": "execute_result",
     "data": {
      "text/plain": [
       "torch.Size([1, 3])"
      ]
     },
     "metadata": {},
     "execution_count": 41
    }
   ],
   "source": [
    "labels.size()"
   ]
  },
  {
   "cell_type": "code",
   "execution_count": null,
   "metadata": {},
   "outputs": [],
   "source": []
  }
 ]
}